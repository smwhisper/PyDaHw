{
 "cells": [
  {
   "cell_type": "markdown",
   "metadata": {},
   "source": [
    "**Задание 1**. Даны 2 строки: *long_phrase* и *short_phrase*. \n",
    "Напишите код, который проверяет действительно ли длинная фраза *long_phrase* длиннее короткой *short_phrase*. И выводит *True* или *False* в зависимости от результата сравнения."
   ]
  },
  {
   "cell_type": "code",
   "execution_count": null,
   "metadata": {},
   "outputs": [],
   "source": [
    "long_phrase = 'Насколько проще было бы писать программы, если бы не заказчики'\n",
    "short_phrase = '640Кб должно хватить для любых задач. Билл Гейтс (по легенде)'"
   ]
  },
  {
   "cell_type": "code",
   "execution_count": 2,
   "metadata": {},
   "outputs": [
    {
     "data": {
      "text/plain": [
       "True"
      ]
     },
     "execution_count": 2,
     "metadata": {},
     "output_type": "execute_result"
    }
   ],
   "source": [
    "len ('long_phrase')<len('short_phrase')"
   ]
  },
  {
   "cell_type": "markdown",
   "metadata": {},
   "source": [
    "**Задание 2**. Дано значение объема файла в байтах. Напишите перевод этого значения в мегабайты в формате: \"*Объем файла равен 213.68Mb*\""
   ]
  },
  {
   "cell_type": "code",
   "execution_count": 1,
   "metadata": {},
   "outputs": [
    {
     "name": "stdout",
     "output_type": "stream",
     "text": [
      "Объем файла равен 777.89 Mb\n"
     ]
    }
   ],
   "source": [
    "File_size_bytes = 777888999\n",
    "File_size_mbytes = round(File_size_bytes/1000000,2)\n",
    "print ('Объем файла равен', File_size_mbytes,'Mb')"
   ]
  },
  {
   "cell_type": "markdown",
   "metadata": {},
   "source": [
    "**Задание 3**. Разработать приложение для определения знака зодиака по дате рождения. Пример:\n",
    "\n",
    "Введите месяц: март\n",
    "\n",
    "Введите число: 6\n",
    "\n",
    "Вывод:\n",
    "Рыбы"
   ]
  },
  {
   "cell_type": "code",
   "execution_count": 10,
   "metadata": {},
   "outputs": [
    {
     "name": "stdout",
     "output_type": "stream",
     "text": [
      "введите число:5\n",
      "введите месяц:Декабрь\n",
      "Стрелец\n"
     ]
    }
   ],
   "source": [
    "\n",
    "birth_day = input('введите число:')\n",
    "birth_month = input('введите месяц:')\n",
    "\n",
    "birth_day = int(birth_day)\n",
    "birth_month = str(birth_month)\n",
    "\n",
    "\n",
    "if (birth_month == 'Декабрь' and birth_day >=22) or (birth_month == 'Январь' and birth_day <20):\n",
    "    print ('Козерог')\n",
    "elif(birth_month == 'Январь' and birth_day >=20) or (birth_month == 'Февраль' and birth_day <19):\n",
    "    print ('Водолей')\n",
    "elif(birth_month == 'Февраль' and birth_day >=19) or (birth_month == 'Март' and birth_day <21):\n",
    "    print ('Рыбы')\n",
    "elif(birth_month == 'Март' and birth_day >=21) or (birth_month == 'Апрель' and birth_day <20):\n",
    "    print ('Овен')\n",
    "elif(birth_month == 'Апрель' and birth_day >=20) or (birth_month == 'Май' and birth_day <21):\n",
    "    print ('Телец')\n",
    "elif(birth_month == 'Май' and birth_day >=21) or (birth_month == 'Июнь' and birth_day <21):\n",
    "    print ('Близнецы')\n",
    "elif(birth_month == 'Июнь' and birth_day >=21) or (birth_month == 'Июль' and birth_day <23):\n",
    "    print ('Рак')\n",
    "elif(birth_month == 'Июль' and birth_day >=23) or (birth_month == 'Август' and birth_day <23):\n",
    "    print ('Лев')\n",
    "elif(birth_month == 'Август' and birth_day >=23) or (birth_month == 'Сентябрь' and birth_day <23):\n",
    "    print ('Дева')\n",
    "elif(birth_month == 'Сентябрь' and birth_day >=23) or (birth_month == 'Октябрь' and birth_day <23):\n",
    "    print ('Весы')\n",
    "elif(birth_month == 'Октябрь' and birth_day >=23) or (birth_month == 'Ноябрь' and birth_day <22):\n",
    "    print ('Скорпион')\n",
    "elif(birth_month == 'Ноябрь' and birth_day >=22) or (birth_month == 'Декабрь' and birth_day <22):\n",
    "    print ('Стрелец')\n",
    "    \n",
    "if birth_month == 'Февраль'and birth_day >29:\n",
    "    print ('Некорректная дата')\n",
    "   "
   ]
  },
  {
   "cell_type": "markdown",
   "metadata": {},
   "source": [
    "**Задание 4**. Нужно разработать приложение для финансового планирования.\n",
    "Приложение учитывает сколько уходит на ипотеку, \"на жизнь\" и сколько нужно отложить на пенсию.\n",
    "Пользователь вводит:\n",
    "- заработанную плату в месяц.\n",
    "- сколько процентов от ЗП уходит на ипотеку.\n",
    "- сколько процентов от ЗП уходит \"на жизнь\".\n",
    "- сколько раз приходит премия в год.\n",
    "\n",
    "Остальная часть заработанной платы откладывается на пенсию.\n",
    "\n",
    "Также пользователю приходит премия в размере зарплаты, от которой половина уходит на отпуск, а вторая половина откладывается.\n",
    "\n",
    "Программа должна учитывать сколько премий было в год.\n",
    "\n",
    "Нужно вывести сколько денег тратит пользователь на ипотеку и сколько он накопит за год.\n",
    "\n",
    "Пример:\n",
    "\n",
    "Введите заработанную плату в месяц: 100000\n",
    "\n",
    "Введите сколько процентов уходит на ипотеку: 30\n",
    "\n",
    "Введите сколько процентов уходит на жизнь: 50\n",
    "\n",
    "Введите количество премий за год: 2\n",
    "\n",
    "Вывод:\n",
    "На ипотеку было потрачено: 360000 рублей\n",
    "Было накоплено: 340000 рублей"
   ]
  },
  {
   "cell_type": "code",
   "execution_count": 34,
   "metadata": {},
   "outputs": [
    {
     "name": "stdout",
     "output_type": "stream",
     "text": [
      "Введите заработанную плату в месяц:100000\n",
      "Введите сколько процентов уходит на ипотеку:30\n",
      "Введите сколько процентов уходит на жизнь:50\n",
      "Введите количество премий за год:2\n",
      "Было накоплено 340000\n",
      "На ипотеку было потрачено: 360000\n"
     ]
    }
   ],
   "source": [
    "#salary = 100000\n",
    "#hypothec = 30\n",
    "#daily = 50\n",
    "#premium = 2\n",
    "salary = input('Введите заработанную плату в месяц:')\n",
    "hypothec = input('Введите сколько процентов уходит на ипотеку:')\n",
    "daily = input('Введите сколько процентов уходит на жизнь:')\n",
    "premium = input('Введите количество премий за год:')\n",
    "\n",
    "salary = int(salary)\n",
    "hypothec = int(hypothec)\n",
    "daily = int(daily)\n",
    "premium = int(premium)\n",
    "\n",
    "hypothec_prcnt = hypothec/100\n",
    "daily_prcnt = daily/100\n",
    "premium_total = premium*salary\n",
    "capital_month = salary - hypothec_prcnt * salary - daily_prcnt * salary\n",
    "\n",
    "capital_year = int(capital_month * 12 +  premium_total/2)\n",
    "hypothec_year = int(hypothec_prcnt * salary * 12)\n",
    "\n",
    "if capital_year < 0 :\n",
    "    print ('Было накоплено',0)\n",
    "else:\n",
    "    print ('Было накоплено',capital_year)\n",
    "    \n",
    "print ('На ипотеку было потрачено:', hypothec_year)\n",
    "    "
   ]
  }
 ],
 "metadata": {
  "kernelspec": {
   "display_name": "Python 3",
   "language": "python",
   "name": "python3"
  },
  "language_info": {
   "codemirror_mode": {
    "name": "ipython",
    "version": 3
   },
   "file_extension": ".py",
   "mimetype": "text/x-python",
   "name": "python",
   "nbconvert_exporter": "python",
   "pygments_lexer": "ipython3",
   "version": "3.7.4"
  }
 },
 "nbformat": 4,
 "nbformat_minor": 2
}
