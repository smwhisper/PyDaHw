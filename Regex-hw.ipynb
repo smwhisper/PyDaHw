{
 "cells": [
  {
   "cell_type": "markdown",
   "metadata": {},
   "source": [
    "# Домашнее задание к лекции \"Регулярные выражения\"\n",
    "Для зачета необходимо выполнить 4 задания.  \n",
    "Для зачета с отличием – все."
   ]
  },
  {
   "cell_type": "markdown",
   "metadata": {},
   "source": [
    "## Задание 1"
   ]
  },
  {
   "cell_type": "markdown",
   "metadata": {},
   "source": [
    "Напишите функцию, которая принимает на вход строку и проверяет является ли она валидным транспортным номером. Если да, то функция должна возвращать отдельно номер и регион."
   ]
  },
  {
   "cell_type": "code",
   "execution_count": 2,
   "metadata": {},
   "outputs": [
    {
     "data": {
      "text/plain": [
       "['РУ056В78', 'АВ123Р54']"
      ]
     },
     "execution_count": 2,
     "metadata": {},
     "output_type": "execute_result"
    }
   ],
   "source": [
    "#  А, В, Е, К, М, Н, О, Р, С, Т, У и Х.\n",
    "import re\n",
    "number = \"РУ056В78, РУ56В78, ФЫ56В78, АВ123Р54\"\n",
    "REGEX_NUMBERS = '[АВЕКМНОРСТУХ]{2}\\d{3}[АВЕКМНОРСТУХ]{1}\\d{2,3}'\n",
    "re.findall(REGEX_NUMBERS, number)"
   ]
  },
  {
   "cell_type": "markdown",
   "metadata": {},
   "source": [
    "## Задание 2"
   ]
  },
  {
   "cell_type": "markdown",
   "metadata": {},
   "source": [
    "Напишите функцию, которая проверяет e-mail адрес на валидность по стандарту RFC822: http://www.w3.org/Protocols/rfc822/. Для этого постарайтесь написать (в крайнем случае найти) самый полный шаблон для проверки e-mail адресов через регулярное выражение. Разберитесь и напишите примеры, какие ваш шаблон может не охватить."
   ]
  },
  {
   "cell_type": "code",
   "execution_count": 187,
   "metadata": {},
   "outputs": [
    {
     "data": {
      "text/plain": [
       "['any_a@bk.ru']"
      ]
     },
     "execution_count": 187,
     "metadata": {},
     "output_type": "execute_result"
    }
   ],
   "source": [
    "mail = \"any_a@bk.ru\"\n",
    "REGEX_mails = \"^[a-z0-9-._]+@(?:[a-z0-9][-a-z0-9]+\\.)+[a-z]{2,6}\"\n",
    "re.findall(REGEX_mails, mail)\n",
    "\n",
    "# Не пропускат мейлы формата any_a@u.ru\n",
    "# Пропускают мейлы вида .ry или meil.ru\n"
   ]
  },
  {
   "cell_type": "markdown",
   "metadata": {},
   "source": [
    "## Задание 3\n",
    "Напишите функцию, которая будет удалять все последовательные повторы слов из заданной строки."
   ]
  },
  {
   "cell_type": "code",
   "execution_count": 157,
   "metadata": {},
   "outputs": [
    {
     "name": "stdout",
     "output_type": "stream",
     "text": [
      "Идет бычок качается вздыхает на ходу \n"
     ]
    }
   ],
   "source": [
    "text = 'Идет идет бычок бычок бычок качается вздыхает на на на ходу '\n",
    "# print(re.findall(\"\\\\b(\\\\w+)(?:\\\\s+\\\\1\\\\b)+\", text))\n",
    "# re.sub?\n",
    "print(re.sub(r'\\b([^\\W\\d_]+)(\\s+\\1)+\\b', r'\\1', text, flags=re.I))\n"
   ]
  },
  {
   "cell_type": "markdown",
   "metadata": {},
   "source": [
    "## Задание 4\n",
    "Напишите функцию, которая будет проверять номер сотового телефона на валидность, если он валиден, то переводить его в формат:   \n",
    "+7(xxx)-xxx-xx-xx  \n",
    "Постарайтесь предусмотреть как можно больше адекватных форматов изначального ввода номера.\n",
    "Примеры правильных и неправильных форматов:\n",
    "- +7 955 555-55-55;\n",
    "- 955555555;\n",
    "- 8(955)555-55-55;\n",
    "- +7 955 555 55 55;\n",
    "- 7(955) 555-55-55;\n",
    "- +7 955+555+55+55."
   ]
  },
  {
   "cell_type": "code",
   "execution_count": 186,
   "metadata": {},
   "outputs": [
    {
     "name": "stdout",
     "output_type": "stream",
     "text": [
      "Номер +7 955 555-55-55 валидный\n",
      "Номер 955555555 невалидный\n",
      "Номер 8(955)555-55-55 валидный\n",
      "Номер 7(955) 555-55-55 валидный\n",
      "Номер +7 955+555+55+55 валидный\n",
      "Номер 6 989 88 77 99 невалидный\n"
     ]
    }
   ],
   "source": [
    "mobs = ['+7 955 555-55-55', '955555555', '8(955)555-55-55', '7(955) 555-55-55', '+7 955+555+55+55', '6 989 88 77 99']\n",
    "for numbers in mobs:\n",
    "    if re.match(\"^(\\+?7|8)?\\s?\\(?\\d{3}\\)?[ \\-+]?\\d{3}[ \\-+]?\\d{2}[ \\-+]?\\d{2}\", numbers):\n",
    "        new_mobs = str(mobs)\n",
    "#         new_mobs = new_mobs.replace('+','').replace('-','').replace('(','').replace(')','').replace(' ','')\n",
    "#     for new_numbers in new_mobs:\n",
    "        print('Номер {} валидный'.format(numbers))\n",
    "    else:\n",
    "        print('Номер {} невалидный'.format(numbers))   \n",
    "        \n",
    "# re.sub(<Шаблон>, <Новьм фрагмент или ссылка на функцию>, <Строка для замены>[, <Максимальное количество замен>[, flags=O]]\n",
    "for new_numbers in new_mobs:\n",
    "        result = re.sub(r\"^(\\+?7|8)?\\s?\\(?\\d{3}\\)?[ \\-+]?\\d{3}[ \\-+]?\\d{2}[ \\-+]?\\d{2}\", r\"1 2 3\", new_mobs)"
   ]
  }
 ],
 "metadata": {
  "kernelspec": {
   "display_name": "Python 3",
   "language": "python",
   "name": "python3"
  },
  "language_info": {
   "codemirror_mode": {
    "name": "ipython",
    "version": 3
   },
   "file_extension": ".py",
   "mimetype": "text/x-python",
   "name": "python",
   "nbconvert_exporter": "python",
   "pygments_lexer": "ipython3",
   "version": "3.7.4"
  }
 },
 "nbformat": 4,
 "nbformat_minor": 2
}
