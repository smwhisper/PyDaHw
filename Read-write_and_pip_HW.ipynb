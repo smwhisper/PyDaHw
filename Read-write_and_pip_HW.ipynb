{
 "cells": [
  {
   "cell_type": "markdown",
   "metadata": {},
   "source": [
    "# Домашнее задание\n",
    "1. Переведите содержимое файла purchase_log.txt в словарь purchases вида:\n",
    "```python\n",
    "{'1840e0b9d4': 'Продукты', ...}\n",
    "```\n",
    "\n",
    "2. Для каждого user_id в файле visit_log.csv добавьте третий столбец с категорией покупки (если покупка была).\n",
    "\n",
    "3. Запишите в файл funnel.csv визиты из файла visit_log.csv, в которых были покупки с указанием категории.\n",
    "\n",
    "Учтите условия на данные:\n",
    "- содержимое purchase_log.txt помещается в оперативную память компьютера\n",
    "- содержимое visit_log.csv - нет; используйте только построчную обработку этого файла"
   ]
  },
  {
   "cell_type": "code",
   "execution_count": 2,
   "metadata": {},
   "outputs": [],
   "source": [
    "import json"
   ]
  },
  {
   "cell_type": "code",
   "execution_count": 12,
   "metadata": {},
   "outputs": [
    {
     "data": {
      "text/plain": [
       "<function TextIOWrapper.close()>"
      ]
     },
     "execution_count": 12,
     "metadata": {},
     "output_type": "execute_result"
    }
   ],
   "source": [
    "with open('purchase_log.txt', 'r', encoding='UTF-8') as f:\n",
    "#     print([next(f) for x in range(5)])\n",
    "    purchases = {}\n",
    "    log = f.readlines()\n",
    "    for line in log:\n",
    "        new_line = json.loads(line.strip())\n",
    "        if new_line ['user_id'] != 'user_id':\n",
    "            if new_line ['user_id'] not in purchases.keys():\n",
    "                purchases[new_line['user_id']]=[new_line['category']]\n",
    "            else:\n",
    "                purchases[new_line['user_id']]+= \",\" + new_line['category']  \n",
    "                \n",
    "                \n",
    "v = open('visit_log.csv','r',encoding='UTF-8')\n",
    "r = open('visit_log_purch.txt', 'w')\n",
    "funnel = open('funnel.csv', 'w')\n",
    "n = 0\n",
    "for line in v:\n",
    "    line = line.strip(\"\\n\")\n",
    "    user_id = line.split(\",\")[0]\n",
    "    categ = purchases.get(user_id)\n",
    "    if n==0:\n",
    "        line += 'categoty\\n'\n",
    "        r.write(line)\n",
    "        funnel.write(line)\n",
    "        n+=1\n",
    "    else:\n",
    "        line +=\",\"+str(categ)+'\\n'\n",
    "        r.write(line)\n",
    "        if categ != None:\n",
    "            funnel.write(line)\n",
    "v.close\n",
    "r.close\n",
    "funnel.close"
   ]
  }
 ],
 "metadata": {
  "kernelspec": {
   "display_name": "Python 3",
   "language": "python",
   "name": "python3"
  },
  "language_info": {
   "codemirror_mode": {
    "name": "ipython",
    "version": 3
   },
   "file_extension": ".py",
   "mimetype": "text/x-python",
   "name": "python",
   "nbconvert_exporter": "python",
   "pygments_lexer": "ipython3",
   "version": "3.7.4"
  }
 },
 "nbformat": 4,
 "nbformat_minor": 2
}
