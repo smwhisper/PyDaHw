{
 "cells": [
  {
   "cell_type": "markdown",
   "metadata": {},
   "source": [
    "## Задание 1"
   ]
  },
  {
   "cell_type": "markdown",
   "metadata": {},
   "source": [
    "Дан список вида:"
   ]
  },
  {
   "cell_type": "code",
   "execution_count": 35,
   "metadata": {},
   "outputs": [
    {
     "name": "stdout",
     "output_type": "stream",
     "text": [
      "103\n"
     ]
    }
   ],
   "source": [
    "data = [\n",
    "    [13, 25, 23, 34],\n",
    "    [45, 32, 44, 47],\n",
    "    [12, 33, 23, 95],\n",
    "    [13, 53, 34, 35]\n",
    "]\n",
    "\n",
    "sum_data = 0\n",
    "i = range(len(data))\n",
    "# print (range(len(data)))\n",
    "# print (data[1][1])\n",
    "for i in range(len(data)):\n",
    "    sum_data += data[i][i]\n",
    "\n",
    "print(sum_data)\n"
   ]
  },
  {
   "cell_type": "markdown",
   "metadata": {},
   "source": [
    "Напишите функцию, которая возвращает сумму элементов на диагонали. Т. е. 13+32+23+35.  \n",
    "Список может быть любой длины, но всегда является \"квадратным\" (количество элементов во вложенных списках равно их количеству)."
   ]
  },
  {
   "cell_type": "markdown",
   "metadata": {},
   "source": [
    "## Задание 2"
   ]
  },
  {
   "cell_type": "markdown",
   "metadata": {},
   "source": [
    "Напишите функцию, возвращающую сумму первых n чисел Фибоначчи (для этого вам может понадобится ознакомиться с рекурсией)."
   ]
  },
  {
   "cell_type": "code",
   "execution_count": 34,
   "metadata": {},
   "outputs": [
    {
     "data": {
      "text/plain": [
       "34"
      ]
     },
     "execution_count": 34,
     "metadata": {},
     "output_type": "execute_result"
    }
   ],
   "source": [
    "def f(n):\n",
    "    if n in (1, 2):\n",
    "        return 1\n",
    "    else:\n",
    "        return f(n - 1) + f(n - 2)\n",
    "# n = int(input(\"Введите порядковый номер:\"))\n",
    "f(9)"
   ]
  },
  {
   "cell_type": "markdown",
   "metadata": {},
   "source": [
    "## Задание 3\n"
   ]
  },
  {
   "cell_type": "markdown",
   "metadata": {},
   "source": [
    "Напишите функцию, преобразующую произвольный список вида ['2018-01-01', 'yandex', 'cpc', 100] (он может быть любой длины) в словарь {'2018-01-01': {'yandex': {'cpc': 100}}}"
   ]
  },
  {
   "cell_type": "code",
   "execution_count": 43,
   "metadata": {},
   "outputs": [
    {
     "name": "stdout",
     "output_type": "stream",
     "text": [
      "{'2018-01-01': {'yandex': {'cpc': 100}}}\n"
     ]
    }
   ],
   "source": [
    "n = len(data_list)\n",
    "data2 = {}\n",
    "data1 = {}\n",
    "data0 = {}\n",
    "data_list = ['2018-01-01', 'yandex', 'cpc', 100]\n",
    "data2 [data_list[n-2]] = data_list[n-1]\n",
    "data1 [data_list[n-3]] = data2\n",
    "data0 [data_list[n-4]] = data1\n",
    "print (data0)"
   ]
  },
  {
   "cell_type": "markdown",
   "metadata": {},
   "source": [
    "## Задание 4"
   ]
  },
  {
   "cell_type": "markdown",
   "metadata": {},
   "source": [
    "Вы работаете секретарем и вам постоянно приходят различные документы. Вы должны быть очень внимательны, чтобы не потерять ни один документ. Каталог документов хранится в следующем виде:"
   ]
  },
  {
   "cell_type": "code",
   "execution_count": 64,
   "metadata": {},
   "outputs": [],
   "source": [
    "documents = [\n",
    "    {'type': 'passport', 'number': '2207 876234', 'name': 'Василий Гупкин'},\n",
    "    {'type': 'invoice', 'number': '11-2', 'name': 'Геннадий Покемонов'},\n",
    "    {'type': 'insurance', 'number': '10006', 'name': 'Аристарх Павлов'}\n",
    "]"
   ]
  },
  {
   "cell_type": "markdown",
   "metadata": {},
   "source": [
    "Перечень полок, на которых находятся документы хранится в следующем виде:"
   ]
  },
  {
   "cell_type": "code",
   "execution_count": 58,
   "metadata": {},
   "outputs": [],
   "source": [
    "directories = {\n",
    "    '1': ['2207 876234', '11-2', '5455 028765'],\n",
    "    '2': ['10006', '5400 028765', '5455 00299'],\n",
    "    '3': []\n",
    "}"
   ]
  },
  {
   "cell_type": "code",
   "execution_count": 46,
   "metadata": {},
   "outputs": [
    {
     "data": {
      "text/plain": [
       "'Геннадий Покемонов'"
      ]
     },
     "execution_count": 46,
     "metadata": {},
     "output_type": "execute_result"
    }
   ],
   "source": [
    "def doc(doc_num):\n",
    "    for elem in documents:\n",
    "        if doc_num == elem['number']:\n",
    "            return elem['name']\n",
    "doc('11-2')"
   ]
  },
  {
   "cell_type": "code",
   "execution_count": 47,
   "metadata": {},
   "outputs": [
    {
     "name": "stdout",
     "output_type": "stream",
     "text": [
      "Владелец документа Геннадий Покемонов\n"
     ]
    }
   ],
   "source": [
    "def p(doc_num):\n",
    "    if doc(doc_num) is not None:\n",
    "        print('Владелец документа',doc(doc_num))  \n",
    "    else:\n",
    "        print('No such user')\n",
    "    return\n",
    "\n",
    "p('11-2')"
   ]
  },
  {
   "cell_type": "code",
   "execution_count": 48,
   "metadata": {},
   "outputs": [
    {
     "name": "stdout",
     "output_type": "stream",
     "text": [
      "Номер полки с документом 1\n"
     ]
    }
   ],
   "source": [
    "def s(doc_num):\n",
    "    for shelf, docs in directories.items():\n",
    "        for elem in docs:\n",
    "            if doc_num == elem:\n",
    "                print ('Номер полки с документом', shelf)\n",
    "                return\n",
    "s('11-2')"
   ]
  },
  {
   "cell_type": "code",
   "execution_count": 50,
   "metadata": {},
   "outputs": [
    {
     "data": {
      "text/plain": [
       "{'1': ['2207 876234', '11-2', '5455 028765'],\n",
       " '2': ['10006', '5400 028765', '5455 00299'],\n",
       " '3': [],\n",
       " '4': []}"
      ]
     },
     "execution_count": 50,
     "metadata": {},
     "output_type": "execute_result"
    }
   ],
   "source": [
    "def addshelf(new_shelf):\n",
    "    for directory in directories:\n",
    "        directories.setdefault(new_shelf, list())\n",
    "    return directories\n",
    "\n",
    "addshelf('4')"
   ]
  },
  {
   "cell_type": "code",
   "execution_count": 60,
   "metadata": {},
   "outputs": [
    {
     "name": "stdout",
     "output_type": "stream",
     "text": [
      "Документ удалён из документов\n",
      "Документ удалён с полки\n",
      "No such user\n"
     ]
    },
    {
     "data": {
      "text/plain": [
       "([{'type': 'passport', 'number': '2207 876234', 'name': 'Василий Гупкин'},\n",
       "  {'type': 'invoice', 'number': '11-2', 'name': 'Геннадий Покемонов'},\n",
       "  {}],\n",
       " {'1': ['2207 876234', '11-2', '5455 028765'],\n",
       "  '2': ['5400 028765', '5455 00299'],\n",
       "  '3': []})"
      ]
     },
     "execution_count": 60,
     "metadata": {},
     "output_type": "execute_result"
    }
   ],
   "source": [
    "\n",
    "def d(doc_num):\n",
    "#     if doc(doc_num) is not None:\n",
    "    for elem in documents:\n",
    "        if doc_num == elem['number']:\n",
    "            del elem['number'],elem ['type'],elem ['name']\n",
    "            print (\"Документ удалён из документов\")\n",
    "    for shelf, docs in directories.items():\n",
    "        for elem in docs:\n",
    "            if doc_num == elem:\n",
    "                docs.remove(doc_num)\n",
    "                print (\"Документ удалён с полки\")\n",
    "    else:\n",
    "        print('No such user')                       \n",
    "    return (documents, directories)\n",
    "\n",
    "d('10006')\n"
   ]
  },
  {
   "cell_type": "code",
   "execution_count": 61,
   "metadata": {},
   "outputs": [
    {
     "name": "stdout",
     "output_type": "stream",
     "text": [
      "dict_items([('1', ['11-2', '5455 028765']), ('2', ['5400 028765', '5455 00299']), ('3', ['2207 876234'])])\n"
     ]
    }
   ],
   "source": [
    "def m(move_doc, new_shelf):\n",
    "    for shelf, docs in directories.items():\n",
    "        for elem in docs:\n",
    "            if move_doc == elem:\n",
    "                docs.remove(move_doc)\n",
    "        if new_shelf == shelf:\n",
    "            docs.append(move_doc)           \n",
    "    return                \n",
    "m('2207 876234', '3')\n",
    "print (directories.items())\n",
    "                "
   ]
  },
  {
   "cell_type": "code",
   "execution_count": 65,
   "metadata": {},
   "outputs": [
    {
     "name": "stdout",
     "output_type": "stream",
     "text": [
      "([{'type': 'passport', 'number': '2207 876234', 'name': 'Василий Гупкин'}, {'type': 'invoice', 'number': '11-2', 'name': 'Геннадий Покемонов'}, {'type': 'insurance', 'number': '10006', 'name': 'Аристарх Павлов'}, {'type': 'passport', 'number': '5452 678564', 'name': 'Люда Апельсинкина'}], {'1': ['11-2', '5455 028765'], '2': ['5400 028765', '5455 00299'], '3': ['2207 876234']})\n"
     ]
    }
   ],
   "source": [
    "def doc(doc_num):\n",
    "        for elem in documents:\n",
    "            if doc_num == elem['number']:\n",
    "                return True\n",
    "            \n",
    "def shelf(doc_shelf):\n",
    "    for shelf, docs in directories.items():\n",
    "        if doc_shelf == shelf:\n",
    "                return True\n",
    "            \n",
    "def add(doc_type, doc_num, doc_name, doc_shelf):\n",
    "    new_doc = {'type': doc_type, 'number': doc_num, 'name': doc_name}\n",
    "    if doc(doc_num) is None:\n",
    "        documents.append(new_doc)\n",
    "    else:\n",
    "        print (\"Такой документ уже есть\")\n",
    "#     for shelf, docs in directories.items():        \n",
    "#         if shelf(doc_shelf) is True:\n",
    "#             docs.append(doc_num)\n",
    "#         else:\n",
    "#             print (\"Такой полки нет\")\n",
    "#         return (documents, directories)\n",
    "            \n",
    "add(\"passport\", \"5452 678564\", \"Люда Апельсинкина\", \"3\")\n",
    "doc(\"5452 678564\")\n",
    "shelf(\"3\")\n",
    "print ((documents, directories))"
   ]
  },
  {
   "cell_type": "markdown",
   "metadata": {},
   "source": [
    "Необходимо реализовать пользовательские команды (внимание! это не название функций, которые должны быть выразительными, а команды, которые вводит пользователь, чтобы получить необходимый результат):\n",
    "  \n",
    "+ p – people – команда, которая спросит номер документа и выведет имя человека, которому он принадлежит;  \n",
    "+ s – shelf – команда, которая спросит номер документа и выведет номер полки, на которой он находится  \n",
    "Правильно обработайте ситуацию, когда пользователь будет вводить несуществующий документ.\n",
    "- l – list – команда, которая выведет список всех документов в формате   \n",
    "**passport \"2207 876234\" \"Василий Гупкин\"**  \n",
    "- as – add shelf – команда, которая спросит номер новой полки и добавит ее в перечень\n",
    "- d – delete – команда, которая спросит номер документа и удалит его из каталога и из перечня полок. Предусмотрите сценарий, когда пользователь вводит несуществующий документ;  \n",
    "- m – move – команда, которая спросит номер документа и целевую полку и переместит его с текущей полки на целевую. Корректно обработайте кейсы, когда пользователь пытается переместить несуществующий документ или переместить документ на несуществующую полку;  \n",
    "- a – add – команда, которая добавит новый документ в каталог и в перечень полок, спросив его номер, тип, имя владельца и номер полки, на котором он будет храниться."
   ]
  },
  {
   "cell_type": "code",
   "execution_count": null,
   "metadata": {},
   "outputs": [],
   "source": []
  }
 ],
 "metadata": {
  "kernelspec": {
   "display_name": "Python 3",
   "language": "python",
   "name": "python3"
  },
  "language_info": {
   "codemirror_mode": {
    "name": "ipython",
    "version": 3
   },
   "file_extension": ".py",
   "mimetype": "text/x-python",
   "name": "python",
   "nbconvert_exporter": "python",
   "pygments_lexer": "ipython3",
   "version": "3.7.4"
  }
 },
 "nbformat": 4,
 "nbformat_minor": 2
}
