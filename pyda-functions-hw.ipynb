{
 "cells": [
  {
   "cell_type": "markdown",
   "metadata": {},
   "source": [
    "## Задание 1"
   ]
  },
  {
   "cell_type": "markdown",
   "metadata": {},
   "source": [
    "Дан список вида:"
   ]
  },
  {
   "cell_type": "code",
   "execution_count": 12,
   "metadata": {},
   "outputs": [
    {
     "data": {
      "text/plain": [
       "103"
      ]
     },
     "execution_count": 12,
     "metadata": {},
     "output_type": "execute_result"
    }
   ],
   "source": [
    "data = [\n",
    "    [13, 25, 23, 34],\n",
    "    [45, 32, 44, 47],\n",
    "    [12, 33, 23, 95],\n",
    "    [13, 53, 34, 35]\n",
    "]\n",
    "def diagonal ():\n",
    "    sum_data = 0\n",
    "    i = range(len(data))\n",
    "    for i in range(len(data)):\n",
    "        sum_data += data[i][i]\n",
    "    return sum_data\n",
    "\n",
    "diagonal ()\n"
   ]
  },
  {
   "cell_type": "markdown",
   "metadata": {},
   "source": [
    "Напишите функцию, которая возвращает сумму элементов на диагонали. Т. е. 13+32+23+35.  \n",
    "Список может быть любой длины, но всегда является \"квадратным\" (количество элементов во вложенных списках равно их количеству)."
   ]
  },
  {
   "cell_type": "markdown",
   "metadata": {},
   "source": [
    "## Задание 2"
   ]
  },
  {
   "cell_type": "markdown",
   "metadata": {},
   "source": [
    "Напишите функцию, возвращающую сумму первых n чисел Фибоначчи (для этого вам может понадобится ознакомиться с рекурсией)."
   ]
  },
  {
   "cell_type": "code",
   "execution_count": 34,
   "metadata": {},
   "outputs": [
    {
     "data": {
      "text/plain": [
       "34"
      ]
     },
     "execution_count": 34,
     "metadata": {},
     "output_type": "execute_result"
    }
   ],
   "source": [
    "def f(n):\n",
    "    if n in (1, 2):\n",
    "        return 1\n",
    "    else:\n",
    "        return f(n - 1) + f(n - 2)\n",
    "# n = int(input(\"Введите порядковый номер:\"))\n",
    "f(9)"
   ]
  },
  {
   "cell_type": "markdown",
   "metadata": {},
   "source": [
    "## Задание 3\n"
   ]
  },
  {
   "cell_type": "markdown",
   "metadata": {},
   "source": [
    "Напишите функцию, преобразующую произвольный список вида ['2018-01-01', 'yandex', 'cpc', 100] (он может быть любой длины) в словарь {'2018-01-01': {'yandex': {'cpc': 100}}}"
   ]
  },
  {
   "cell_type": "code",
   "execution_count": 8,
   "metadata": {},
   "outputs": [
    {
     "data": {
      "text/plain": [
       "{'2018-01-01': {'yandex': {'cpc': 100}}}"
      ]
     },
     "execution_count": 8,
     "metadata": {},
     "output_type": "execute_result"
    }
   ],
   "source": [
    "# n = len(data_list)\n",
    "# data2 = {}\n",
    "# data1 = {}\n",
    "# data0 = {}\n",
    "\n",
    "# data2 [data_list[n-2]] = data_list[n-1]\n",
    "# data1 [data_list[n-3]] = data2\n",
    "# data0 [data_list[n-4]] = data1\n",
    "# print (data0)\n",
    "\n",
    "data_list = ['2018-01-01', 'yandex', 'cpc', 100] \n",
    "\n",
    "def new_dict():\n",
    "    data_dict = {}\n",
    "    n = data_list[-2]\n",
    "    x = data_list[-1]\n",
    "\n",
    "    data_dict[n] = x\n",
    "    i = len(data_list)-3\n",
    "\n",
    "    while i >= 0:\n",
    "        n = data_list[i]\n",
    "        x = data_dict\n",
    "        data_dict = {}\n",
    "        data_dict[n] = x\n",
    "        i -= 1\n",
    "    return (data_dict)\n",
    "new_dict()"
   ]
  },
  {
   "cell_type": "markdown",
   "metadata": {},
   "source": [
    "## Задание 4"
   ]
  },
  {
   "cell_type": "markdown",
   "metadata": {},
   "source": [
    "Вы работаете секретарем и вам постоянно приходят различные документы. Вы должны быть очень внимательны, чтобы не потерять ни один документ. Каталог документов хранится в следующем виде:"
   ]
  },
  {
   "cell_type": "code",
   "execution_count": 4,
   "metadata": {},
   "outputs": [],
   "source": [
    "documents = [\n",
    "    {'type': 'passport', 'number': '2207 876234', 'name': 'Василий Гупкин'},\n",
    "    {'type': 'invoice', 'number': '11-2', 'name': 'Геннадий Покемонов'},\n",
    "    {'type': 'insurance', 'number': '10006', 'name': 'Аристарх Павлов'}\n",
    "]"
   ]
  },
  {
   "cell_type": "markdown",
   "metadata": {},
   "source": [
    "Перечень полок, на которых находятся документы хранится в следующем виде:"
   ]
  },
  {
   "cell_type": "code",
   "execution_count": 5,
   "metadata": {},
   "outputs": [],
   "source": [
    "directories = {\n",
    "    '1': ['2207 876234', '11-2', '5455 028765'],\n",
    "    '2': ['10006', '5400 028765', '5455 00299'],\n",
    "    '3': []\n",
    "}"
   ]
  },
  {
   "cell_type": "code",
   "execution_count": 6,
   "metadata": {},
   "outputs": [],
   "source": [
    "def doc(doc_num):\n",
    "    for elem in documents:\n",
    "        if doc_num == elem['number']:\n",
    "            return elem['name']\n",
    "        \n",
    "def new_shelf(doc_shelf):\n",
    "    for shelf, docs in directories.items():\n",
    "        if doc_shelf == shelf:\n",
    "            return True"
   ]
  },
  {
   "cell_type": "code",
   "execution_count": 9,
   "metadata": {},
   "outputs": [],
   "source": [
    "def people(doc_num):\n",
    "    if doc(doc_num) is not None:\n",
    "        return('Владелец документа',doc(doc_num))  \n",
    "    return 'Документа нет'\n",
    "# people (11-2)"
   ]
  },
  {
   "cell_type": "code",
   "execution_count": 10,
   "metadata": {},
   "outputs": [],
   "source": [
    "def shelf(doc_num):\n",
    "        for shelf, docs in directories.items():\n",
    "            for elem in docs:\n",
    "                if doc_num == elem:\n",
    "                    return ('Номер полки с документом', shelf)\n",
    "        return('No such user')\n",
    "# shelf('11-2')"
   ]
  },
  {
   "cell_type": "code",
   "execution_count": 11,
   "metadata": {},
   "outputs": [],
   "source": [
    "def list_():\n",
    "    for elem in documents:\n",
    "        print (f\"\\033[1m{elem['type']} {elem['number']} {elem['name']}\")\n",
    "    return\n",
    "# list_()"
   ]
  },
  {
   "cell_type": "code",
   "execution_count": 12,
   "metadata": {},
   "outputs": [],
   "source": [
    "def addshelf(doc_shelf):\n",
    "    for directory in directories:\n",
    "        if not new_shelf(doc_shelf):\n",
    "            directories.setdefault(doc_shelf, list())\n",
    "            return directories\n",
    "        return \"Такая полка уже есть\"\n",
    "# addshelf(\"3\")"
   ]
  },
  {
   "cell_type": "code",
   "execution_count": 13,
   "metadata": {},
   "outputs": [],
   "source": [
    "def delete(doc_num):\n",
    "    for elem in documents:\n",
    "        b = 0\n",
    "        if doc_num == elem['number']:\n",
    "            b = documents.index(elem)\n",
    "            del documents[b]\n",
    "    # print (documents)\n",
    "    #     else:\n",
    "    #         print('Документа нет в списке')    \n",
    "        for shelf, docs in directories.items():\n",
    "            for elem in docs:\n",
    "                if doc_num == elem:\n",
    "                    docs.remove(doc_num)            \n",
    "                    print (\"Документ удалён с полки\")        \n",
    "    else:\n",
    "        print('Документа нет в списке')\n",
    "    print(documents, directories)\n",
    "    return \n",
    "\n",
    "# delete('11-2')"
   ]
  },
  {
   "cell_type": "code",
   "execution_count": 14,
   "metadata": {},
   "outputs": [],
   "source": [
    "def move(doc_num, doc_shelf):\n",
    "    if new_shelf(doc_shelf):\n",
    "        if doc(doc_num):\n",
    "            for shelf, docs in directories.items():\n",
    "                for elem in docs:\n",
    "                    if doc_num == elem:\n",
    "                        docs.remove(doc_num)\n",
    "                if doc_shelf == shelf:\n",
    "                    docs.append(doc_num)\n",
    "        else:\n",
    "            return 'Документ отсутствует'\n",
    "    else:\n",
    "        return 'Сначала необходимо создать полку'\n",
    "    print (directories)\n",
    "# move('1112', '1')"
   ]
  },
  {
   "cell_type": "code",
   "execution_count": 18,
   "metadata": {},
   "outputs": [
    {
     "name": "stdout",
     "output_type": "stream",
     "text": [
      "[{'type': 'passport', 'number': '2207 876234', 'name': 'Василий Гупкин'}, {'type': 'invoice', 'number': '11-2', 'name': 'Геннадий Покемонов'}, {'type': 'insurance', 'number': '10006', 'name': 'Аристарх Павлов'}, {'type': 'passport', 'number': '000000', 'name': 'Люда Грушкина'}, {'type': '1', 'number': '11', 'name': '11111'}]\n",
      "{'1': ['2207 876234', '11-2', '5455 028765', '000000'], '2': ['10006', '5400 028765', '5455 00299'], '3': []}\n"
     ]
    }
   ],
   "source": [
    "def add(doc_type, doc_num, doc_name, doc_shelf):\n",
    "    new_doc = {'type': doc_type, 'number': doc_num, 'name': doc_name}\n",
    "    if new_shelf(doc_shelf) is False:\n",
    "        print (\"Такой полки нет\") \n",
    "        return\n",
    "    documents.append(new_doc)\n",
    "    directories[doc_shelf].append(doc_num)\n",
    "    return 'Документ добавлен'\n",
    "    return documents\n",
    "# add(\"passport\", \"000000\", \"Люда Грушкина\", \"1\")\n",
    "print (documents)\n",
    "print (directories)"
   ]
  },
  {
   "cell_type": "code",
   "execution_count": null,
   "metadata": {},
   "outputs": [],
   "source": [
    "# func = input ('Введите команду: ')\n",
    "if func == 'p':\n",
    "    doc_num = input ('введите номер документа')\n",
    "    people(doc_num)\n",
    "elif func == 's':\n",
    "    doc_num = input ('введите номер документа')\n",
    "    shelf(doc_num)\n",
    "elif func == 'd':\n",
    "    doc_num = input ('введите номер документа')\n",
    "    delete(doc_num)\n",
    "elif func == 'l':\n",
    "    list_()\n",
    "elif func == 'a':  \n",
    "    new_shelf = input ('введите новую полку')\n",
    "    addshelf(new_shelf)  \n",
    "elif func == 'm':  \n",
    "    doc_num = input ('введите номер документа')\n",
    "    doc_shelf = input ('введите полку для перемещения')\n",
    "    move(doc_num, doc_shelf)\n",
    "elif func == 'aa':  \n",
    "    doc_num = input ('введите номер документа')\n",
    "    doc_shelf = input ('введите полку')\n",
    "    doc_name = input ('введите ФИО')\n",
    "    doc_type = input ('введите тип документа')\n",
    "    add(doc_type, doc_num, doc_name, doc_shelf)   "
   ]
  },
  {
   "cell_type": "markdown",
   "metadata": {},
   "source": [
    "Необходимо реализовать пользовательские команды (внимание! это не название функций, которые должны быть выразительными, а команды, которые вводит пользователь, чтобы получить необходимый результат):\n",
    "  \n",
    "+ p – people – команда, которая спросит номер документа и выведет имя человека, которому он принадлежит;  \n",
    "+ s – shelf – команда, которая спросит номер документа и выведет номер полки, на которой он находится  \n",
    "Правильно обработайте ситуацию, когда пользователь будет вводить несуществующий документ.\n",
    "+ l – list – команда, которая выведет список всех документов в формате   \n",
    "**passport \"2207 876234\" \"Василий Гупкин\"**  \n",
    "- as – add shelf – команда, которая спросит номер новой полки и добавит ее в перечень\n",
    "- d – delete – команда, которая спросит номер документа и удалит его из каталога и из перечня полок. Предусмотрите сценарий, когда пользователь вводит несуществующий документ;  \n",
    "+ m – move – команда, которая спросит номер документа и целевую полку и переместит его с текущей полки на целевую. Корректно обработайте кейсы, когда пользователь пытается переместить несуществующий документ или переместить документ на несуществующую полку;  \n",
    "- a – add – команда, которая добавит новый документ в каталог и в перечень полок, спросив его номер, тип, имя владельца и номер полки, на котором он будет храниться."
   ]
  },
  {
   "cell_type": "code",
   "execution_count": null,
   "metadata": {},
   "outputs": [],
   "source": []
  }
 ],
 "metadata": {
  "kernelspec": {
   "display_name": "Python 3",
   "language": "python",
   "name": "python3"
  },
  "language_info": {
   "codemirror_mode": {
    "name": "ipython",
    "version": 3
   },
   "file_extension": ".py",
   "mimetype": "text/x-python",
   "name": "python",
   "nbconvert_exporter": "python",
   "pygments_lexer": "ipython3",
   "version": "3.7.4"
  }
 },
 "nbformat": 4,
 "nbformat_minor": 2
}
